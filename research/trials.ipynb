{
 "cells": [
  {
   "cell_type": "code",
   "execution_count": 1,
   "metadata": {},
   "outputs": [
    {
     "name": "stdout",
     "output_type": "stream",
     "text": [
      "Ok\n"
     ]
    }
   ],
   "source": [
    "print(\"Ok\")"
   ]
  },
  {
   "cell_type": "code",
   "execution_count": 2,
   "metadata": {},
   "outputs": [
    {
     "name": "stderr",
     "output_type": "stream",
     "text": [
      "/home/codespace/.python/current/lib/python3.10/site-packages/pinecone/data/index.py:1: TqdmWarning: IProgress not found. Please update jupyter and ipywidgets. See https://ipywidgets.readthedocs.io/en/stable/user_install.html\n",
      "  from tqdm.autonotebook import tqdm\n"
     ]
    }
   ],
   "source": [
    "from langchain import PromptTemplate\n",
    "from langchain.embeddings import HuggingFaceEmbeddings\n",
    "from langchain_community.document_loaders import DirectoryLoader\n",
    "import pinecone\n",
    "from langchain.prompts import PromptTemplate"
   ]
  },
  {
   "cell_type": "markdown",
   "metadata": {},
   "source": [
    "Create pinecone cluster, get API key"
   ]
  },
  {
   "cell_type": "code",
   "execution_count": 3,
   "metadata": {},
   "outputs": [],
   "source": [
    "PINECONE_API_KEY = \"37d70112-c425-4c0b-80bd-846d1429eaf9\"\n",
    "PINECONE_API_ENV = \"\""
   ]
  },
  {
   "cell_type": "markdown",
   "metadata": {},
   "source": [
    "Extract pdf data"
   ]
  },
  {
   "cell_type": "code",
   "execution_count": 4,
   "metadata": {},
   "outputs": [],
   "source": [
    "\n",
    "from langchain.document_loaders import PyPDFLoader\n",
    "def load_pdf(data):\n",
    "    loader = DirectoryLoader(data,\n",
    "                             glob = \"*.pdf\",\n",
    "                             loader_cls=PyPDFLoader)\n",
    "    documents = loader.load()\n",
    "    return documents"
   ]
  },
  {
   "cell_type": "code",
   "execution_count": 6,
   "metadata": {},
   "outputs": [
    {
     "ename": "FileNotFoundError",
     "evalue": "Directory not found: 'data/'",
     "output_type": "error",
     "traceback": [
      "\u001b[0;31m---------------------------------------------------------------------------\u001b[0m",
      "\u001b[0;31mFileNotFoundError\u001b[0m                         Traceback (most recent call last)",
      "Cell \u001b[0;32mIn[6], line 1\u001b[0m\n\u001b[0;32m----> 1\u001b[0m extracted_data \u001b[38;5;241m=\u001b[39m \u001b[43mload_pdf\u001b[49m\u001b[43m(\u001b[49m\u001b[38;5;124;43m\"\u001b[39;49m\u001b[38;5;124;43mdata/\u001b[39;49m\u001b[38;5;124;43m\"\u001b[39;49m\u001b[43m)\u001b[49m\n",
      "Cell \u001b[0;32mIn[4], line 6\u001b[0m, in \u001b[0;36mload_pdf\u001b[0;34m(data)\u001b[0m\n\u001b[1;32m      2\u001b[0m \u001b[38;5;28;01mdef\u001b[39;00m \u001b[38;5;21mload_pdf\u001b[39m(data):\n\u001b[1;32m      3\u001b[0m     loader \u001b[38;5;241m=\u001b[39m DirectoryLoader(data,\n\u001b[1;32m      4\u001b[0m                              glob \u001b[38;5;241m=\u001b[39m \u001b[38;5;124m\"\u001b[39m\u001b[38;5;124m*.pdf\u001b[39m\u001b[38;5;124m\"\u001b[39m,\n\u001b[1;32m      5\u001b[0m                              loader_cls\u001b[38;5;241m=\u001b[39mPyPDFLoader)\n\u001b[0;32m----> 6\u001b[0m     documents \u001b[38;5;241m=\u001b[39m \u001b[43mloader\u001b[49m\u001b[38;5;241;43m.\u001b[39;49m\u001b[43mload\u001b[49m\u001b[43m(\u001b[49m\u001b[43m)\u001b[49m\n\u001b[1;32m      7\u001b[0m     \u001b[38;5;28;01mreturn\u001b[39;00m documents\n",
      "File \u001b[0;32m~/.python/current/lib/python3.10/site-packages/langchain_community/document_loaders/directory.py:117\u001b[0m, in \u001b[0;36mDirectoryLoader.load\u001b[0;34m(self)\u001b[0m\n\u001b[1;32m    115\u001b[0m \u001b[38;5;28;01mdef\u001b[39;00m \u001b[38;5;21mload\u001b[39m(\u001b[38;5;28mself\u001b[39m) \u001b[38;5;241m-\u001b[39m\u001b[38;5;241m>\u001b[39m List[Document]:\n\u001b[1;32m    116\u001b[0m \u001b[38;5;250m    \u001b[39m\u001b[38;5;124;03m\"\"\"Load documents.\"\"\"\u001b[39;00m\n\u001b[0;32m--> 117\u001b[0m     \u001b[38;5;28;01mreturn\u001b[39;00m \u001b[38;5;28;43mlist\u001b[39;49m\u001b[43m(\u001b[49m\u001b[38;5;28;43mself\u001b[39;49m\u001b[38;5;241;43m.\u001b[39;49m\u001b[43mlazy_load\u001b[49m\u001b[43m(\u001b[49m\u001b[43m)\u001b[49m\u001b[43m)\u001b[49m\n",
      "File \u001b[0;32m~/.python/current/lib/python3.10/site-packages/langchain_community/document_loaders/directory.py:123\u001b[0m, in \u001b[0;36mDirectoryLoader.lazy_load\u001b[0;34m(self)\u001b[0m\n\u001b[1;32m    121\u001b[0m p \u001b[38;5;241m=\u001b[39m Path(\u001b[38;5;28mself\u001b[39m\u001b[38;5;241m.\u001b[39mpath)\n\u001b[1;32m    122\u001b[0m \u001b[38;5;28;01mif\u001b[39;00m \u001b[38;5;129;01mnot\u001b[39;00m p\u001b[38;5;241m.\u001b[39mexists():\n\u001b[0;32m--> 123\u001b[0m     \u001b[38;5;28;01mraise\u001b[39;00m \u001b[38;5;167;01mFileNotFoundError\u001b[39;00m(\u001b[38;5;124mf\u001b[39m\u001b[38;5;124m\"\u001b[39m\u001b[38;5;124mDirectory not found: \u001b[39m\u001b[38;5;124m'\u001b[39m\u001b[38;5;132;01m{\u001b[39;00m\u001b[38;5;28mself\u001b[39m\u001b[38;5;241m.\u001b[39mpath\u001b[38;5;132;01m}\u001b[39;00m\u001b[38;5;124m'\u001b[39m\u001b[38;5;124m\"\u001b[39m)\n\u001b[1;32m    124\u001b[0m \u001b[38;5;28;01mif\u001b[39;00m \u001b[38;5;129;01mnot\u001b[39;00m p\u001b[38;5;241m.\u001b[39mis_dir():\n\u001b[1;32m    125\u001b[0m     \u001b[38;5;28;01mraise\u001b[39;00m \u001b[38;5;167;01mValueError\u001b[39;00m(\u001b[38;5;124mf\u001b[39m\u001b[38;5;124m\"\u001b[39m\u001b[38;5;124mExpected directory, got file: \u001b[39m\u001b[38;5;124m'\u001b[39m\u001b[38;5;132;01m{\u001b[39;00m\u001b[38;5;28mself\u001b[39m\u001b[38;5;241m.\u001b[39mpath\u001b[38;5;132;01m}\u001b[39;00m\u001b[38;5;124m'\u001b[39m\u001b[38;5;124m\"\u001b[39m)\n",
      "\u001b[0;31mFileNotFoundError\u001b[0m: Directory not found: 'data/'"
     ]
    }
   ],
   "source": [
    "extracted_data = load_pdf(\"data/\")"
   ]
  },
  {
   "cell_type": "code",
   "execution_count": 7,
   "metadata": {},
   "outputs": [],
   "source": [
    "# extracted_data"
   ]
  },
  {
   "cell_type": "markdown",
   "metadata": {},
   "source": [
    "Create text chunks"
   ]
  },
  {
   "cell_type": "code",
   "execution_count": 5,
   "metadata": {},
   "outputs": [],
   "source": [
    "from langchain_text_splitters import RecursiveCharacterTextSplitter\n",
    "def text_split(extracted_data):\n",
    "    text_splitter = RecursiveCharacterTextSplitter(chunk_size = 500, chunk_overlap = 20)\n",
    "    text_chunks = text_splitter.split_documents(extracted_data)\n",
    "    return text_chunks"
   ]
  },
  {
   "cell_type": "code",
   "execution_count": null,
   "metadata": {},
   "outputs": [],
   "source": [
    "text_chunks = text_split(extracted_data)\n",
    "print(\"Number of ch chunks is\", len(text_chunks))"
   ]
  },
  {
   "cell_type": "markdown",
   "metadata": {},
   "source": [
    "Download embedding model"
   ]
  },
  {
   "cell_type": "code",
   "execution_count": 8,
   "metadata": {},
   "outputs": [],
   "source": [
    "def download_hugging_face_embeddings():\n",
    "    embeddings = HuggingFaceEmbeddings(model_name = \"sentence-transformers/all-MiniLM-L6-v2\")\n",
    "    return embeddings"
   ]
  },
  {
   "cell_type": "code",
   "execution_count": 9,
   "metadata": {},
   "outputs": [
    {
     "name": "stderr",
     "output_type": "stream",
     "text": [
      "/home/codespace/.python/current/lib/python3.10/site-packages/langchain_core/_api/deprecation.py:139: LangChainDeprecationWarning: The class `HuggingFaceEmbeddings` was deprecated in LangChain 0.2.2 and will be removed in 0.3.0. An updated version of the class exists in the langchain-huggingface package and should be used instead. To use it run `pip install -U langchain-huggingface` and import as `from langchain_huggingface import HuggingFaceEmbeddings`.\n",
      "  warn_deprecated(\n",
      "/home/codespace/.python/current/lib/python3.10/site-packages/transformers/tokenization_utils_base.py:1601: FutureWarning: `clean_up_tokenization_spaces` was not set. It will be set to `True` by default. This behavior will be depracted in transformers v4.45, and will be then set to `False` by default. For more details check this issue: https://github.com/huggingface/transformers/issues/31884\n",
      "  warnings.warn(\n"
     ]
    }
   ],
   "source": [
    "embeddings = download_hugging_face_embeddings()"
   ]
  },
  {
   "cell_type": "code",
   "execution_count": 10,
   "metadata": {},
   "outputs": [
    {
     "data": {
      "text/plain": [
       "HuggingFaceEmbeddings(client=SentenceTransformer(\n",
       "  (0): Transformer({'max_seq_length': 256, 'do_lower_case': False}) with Transformer model: BertModel \n",
       "  (1): Pooling({'word_embedding_dimension': 384, 'pooling_mode_cls_token': False, 'pooling_mode_mean_tokens': True, 'pooling_mode_max_tokens': False, 'pooling_mode_mean_sqrt_len_tokens': False, 'pooling_mode_weightedmean_tokens': False, 'pooling_mode_lasttoken': False, 'include_prompt': True})\n",
       "  (2): Normalize()\n",
       "), model_name='sentence-transformers/all-MiniLM-L6-v2', cache_folder=None, model_kwargs={}, encode_kwargs={}, multi_process=False, show_progress=False)"
      ]
     },
     "execution_count": 10,
     "metadata": {},
     "output_type": "execute_result"
    }
   ],
   "source": [
    "embeddings"
   ]
  },
  {
   "cell_type": "markdown",
   "metadata": {},
   "source": [
    "Test embedding model"
   ]
  },
  {
   "cell_type": "code",
   "execution_count": 11,
   "metadata": {},
   "outputs": [
    {
     "name": "stdout",
     "output_type": "stream",
     "text": [
      "Length 384\n"
     ]
    }
   ],
   "source": [
    "query_result = embeddings.embed_query(\"Hello World\")\n",
    "print(\"Length\", len(query_result))"
   ]
  },
  {
   "cell_type": "markdown",
   "metadata": {},
   "source": [
    "Vector representation of \"Hello World\""
   ]
  },
  {
   "cell_type": "code",
   "execution_count": 12,
   "metadata": {},
   "outputs": [
    {
     "data": {
      "text/plain": [
       "[-0.03447727859020233,\n",
       " 0.03102324716746807,\n",
       " 0.006734943948686123,\n",
       " 0.02610895037651062,\n",
       " -0.03936202824115753,\n",
       " -0.1603025197982788,\n",
       " 0.06692401319742203,\n",
       " -0.006441460456699133,\n",
       " -0.047450434416532516,\n",
       " 0.014758843928575516,\n",
       " 0.07087527215480804,\n",
       " 0.05552758276462555,\n",
       " 0.019193317741155624,\n",
       " -0.026251306757330894,\n",
       " -0.010109581984579563,\n",
       " -0.026940494775772095,\n",
       " 0.022307422012090683,\n",
       " -0.022226620465517044,\n",
       " -0.1496926248073578,\n",
       " -0.017493054270744324,\n",
       " 0.0076762172393500805,\n",
       " 0.0543522872030735,\n",
       " 0.00325441500172019,\n",
       " 0.03172592446208,\n",
       " -0.08462139964103699,\n",
       " -0.02940598502755165,\n",
       " 0.05159560963511467,\n",
       " 0.048124004155397415,\n",
       " -0.00331481802277267,\n",
       " -0.05827918276190758,\n",
       " 0.041969262063503265,\n",
       " 0.02221064455807209,\n",
       " 0.128188818693161,\n",
       " -0.022338906303048134,\n",
       " -0.011656313203275204,\n",
       " 0.06292835623025894,\n",
       " -0.032876331359148026,\n",
       " -0.09122605621814728,\n",
       " -0.031175334006547928,\n",
       " 0.052699558436870575,\n",
       " 0.04703483358025551,\n",
       " -0.08420306444168091,\n",
       " -0.030056189745664597,\n",
       " -0.02074485830962658,\n",
       " 0.009517839178442955,\n",
       " -0.003721841610968113,\n",
       " 0.007343333214521408,\n",
       " 0.039324283599853516,\n",
       " 0.09327401220798492,\n",
       " -0.003788585774600506,\n",
       " -0.0527421310544014,\n",
       " -0.05805821716785431,\n",
       " -0.006864411756396294,\n",
       " 0.005283231846988201,\n",
       " 0.082893006503582,\n",
       " 0.01936277374625206,\n",
       " 0.006284529808908701,\n",
       " -0.010330766439437866,\n",
       " 0.009032396599650383,\n",
       " -0.037683773785829544,\n",
       " -0.045205987989902496,\n",
       " 0.02401631884276867,\n",
       " -0.006944168824702501,\n",
       " 0.013491639867424965,\n",
       " 0.10005490481853485,\n",
       " -0.0716838613152504,\n",
       " -0.021695077419281006,\n",
       " 0.03161842003464699,\n",
       " -0.05163468047976494,\n",
       " -0.08224771916866302,\n",
       " -0.06569331884384155,\n",
       " -0.009895361959934235,\n",
       " 0.005816399119794369,\n",
       " 0.07355449348688126,\n",
       " -0.03405024856328964,\n",
       " 0.02488614432513714,\n",
       " 0.014488084241747856,\n",
       " 0.026457395404577255,\n",
       " 0.009656773880124092,\n",
       " 0.030217284336686134,\n",
       " 0.05280394107103348,\n",
       " -0.07535986602306366,\n",
       " 0.009897185489535332,\n",
       " 0.029836812987923622,\n",
       " 0.01755557581782341,\n",
       " 0.023091936483979225,\n",
       " 0.0019338664133101702,\n",
       " 0.0014002062380313873,\n",
       " -0.04717594012618065,\n",
       " -0.011194340884685516,\n",
       " -0.11420141905546188,\n",
       " -0.0198119655251503,\n",
       " 0.040266215801239014,\n",
       " 0.002192980609834194,\n",
       " -0.07979226112365723,\n",
       " -0.02538228966295719,\n",
       " 0.09448296576738358,\n",
       " -0.028981082141399384,\n",
       " -0.14500251412391663,\n",
       " 0.230977401137352,\n",
       " 0.027731185778975487,\n",
       " 0.032111506909132004,\n",
       " 0.03106503374874592,\n",
       " 0.04283285513520241,\n",
       " 0.06423776596784592,\n",
       " 0.03216314688324928,\n",
       " -0.004876733757555485,\n",
       " 0.0556994304060936,\n",
       " -0.037532392889261246,\n",
       " -0.02150554023683071,\n",
       " -0.02834266982972622,\n",
       " -0.02884693816304207,\n",
       " 0.03835306316614151,\n",
       " -0.01746860332787037,\n",
       " 0.052485302090644836,\n",
       " -0.07487603276968002,\n",
       " -0.03125974163413048,\n",
       " 0.021841583773493767,\n",
       " -0.039895664900541306,\n",
       " -0.008587098680436611,\n",
       " 0.0269565898925066,\n",
       " -0.048495519906282425,\n",
       " 0.011469920165836811,\n",
       " 0.02961820736527443,\n",
       " -0.020572153851389885,\n",
       " 0.013103863224387169,\n",
       " 0.028833480551838875,\n",
       " -3.1941979827962646e-33,\n",
       " 0.06478209048509598,\n",
       " -0.018130194395780563,\n",
       " 0.05178995802998543,\n",
       " 0.12198275327682495,\n",
       " 0.02878015674650669,\n",
       " 0.008722009137272835,\n",
       " -0.07052118331193924,\n",
       " -0.016907285898923874,\n",
       " 0.04073971509933472,\n",
       " 0.042116131633520126,\n",
       " 0.02544720098376274,\n",
       " 0.0357462540268898,\n",
       " -0.04914481192827225,\n",
       " 0.0021290904842317104,\n",
       " -0.015546534210443497,\n",
       " 0.05073058605194092,\n",
       " -0.0481853112578392,\n",
       " 0.035880617797374725,\n",
       " -0.004067062865942717,\n",
       " 0.10172469913959503,\n",
       " -0.05597003176808357,\n",
       " -0.010681064799427986,\n",
       " 0.011235784739255905,\n",
       " 0.09068655967712402,\n",
       " 0.004234449937939644,\n",
       " 0.03513868898153305,\n",
       " -0.0097028324380517,\n",
       " -0.09386513382196426,\n",
       " 0.0928555428981781,\n",
       " 0.008004923351109028,\n",
       " -0.007705409079790115,\n",
       " -0.05208669975399971,\n",
       " -0.012587934732437134,\n",
       " 0.003266948042437434,\n",
       " 0.006013515871018171,\n",
       " 0.007581591140478849,\n",
       " 0.010517152026295662,\n",
       " -0.08634553849697113,\n",
       " -0.06987876445055008,\n",
       " -0.0025338917039334774,\n",
       " -0.09097658842802048,\n",
       " 0.04688731208443642,\n",
       " 0.05207647755742073,\n",
       " 0.007193842902779579,\n",
       " 0.010903640650212765,\n",
       " -0.005229514557868242,\n",
       " 0.01393730565905571,\n",
       " 0.021968383342027664,\n",
       " 0.03420862555503845,\n",
       " 0.060224685817956924,\n",
       " 0.00011665208876365796,\n",
       " 0.014731940813362598,\n",
       " -0.070089191198349,\n",
       " 0.028499001637101173,\n",
       " -0.027601666748523712,\n",
       " 0.010768434032797813,\n",
       " 0.03483089804649353,\n",
       " -0.02248786762356758,\n",
       " 0.009769055992364883,\n",
       " 0.0772278681397438,\n",
       " 0.021588383242487907,\n",
       " 0.11495620012283325,\n",
       " -0.0680011734366417,\n",
       " 0.023760970681905746,\n",
       " -0.015983954071998596,\n",
       " -0.01782696135342121,\n",
       " 0.06439492106437683,\n",
       " 0.032025761902332306,\n",
       " 0.050270307809114456,\n",
       " -0.005913665518164635,\n",
       " -0.033708032220602036,\n",
       " 0.017840232700109482,\n",
       " 0.01657332293689251,\n",
       " 0.06329651176929474,\n",
       " 0.0346771702170372,\n",
       " 0.046473439782857895,\n",
       " 0.09790609776973724,\n",
       " -0.006635499652475119,\n",
       " 0.02520703338086605,\n",
       " -0.07798830419778824,\n",
       " 0.016926448792219162,\n",
       " -0.0009458649437874556,\n",
       " 0.022471917793154716,\n",
       " -0.03825320675969124,\n",
       " 0.09570478647947311,\n",
       " -0.0053508104756474495,\n",
       " 0.010469090193510056,\n",
       " -0.11524055898189545,\n",
       " -0.013262515887618065,\n",
       " -0.010709513910114765,\n",
       " -0.08311720937490463,\n",
       " 0.07327362149953842,\n",
       " 0.049392227083444595,\n",
       " -0.008994366973638535,\n",
       " -0.09584559500217438,\n",
       " 3.366147092382641e-33,\n",
       " 0.12493184208869934,\n",
       " 0.019349761307239532,\n",
       " -0.05822574347257614,\n",
       " -0.03598819673061371,\n",
       " -0.05074673891067505,\n",
       " -0.045662399381399155,\n",
       " -0.08260335773229599,\n",
       " 0.1481948047876358,\n",
       " -0.08842117339372635,\n",
       " 0.06027441471815109,\n",
       " 0.051030177623033524,\n",
       " 0.010303208604454994,\n",
       " 0.14121422171592712,\n",
       " 0.030813870951533318,\n",
       " 0.06103307008743286,\n",
       " -0.05285123363137245,\n",
       " 0.13664893805980682,\n",
       " 0.009189903736114502,\n",
       " -0.017325205728411674,\n",
       " -0.012848636135458946,\n",
       " -0.00799534935504198,\n",
       " -0.050980065017938614,\n",
       " -0.05235062167048454,\n",
       " 0.007593024522066116,\n",
       " -0.015166327357292175,\n",
       " 0.016960300505161285,\n",
       " 0.021270576864480972,\n",
       " 0.020558027550578117,\n",
       " -0.12002810090780258,\n",
       " 0.014461848884820938,\n",
       " 0.0267599169164896,\n",
       " 0.025330647826194763,\n",
       " -0.04275469109416008,\n",
       " 0.006768397055566311,\n",
       " -0.014458545483648777,\n",
       " 0.04526200145483017,\n",
       " -0.09147652983665466,\n",
       " -0.019439110532402992,\n",
       " -0.017833489924669266,\n",
       " -0.054910119622945786,\n",
       " -0.05264107882976532,\n",
       " -0.010459118522703648,\n",
       " -0.052016060799360275,\n",
       " 0.02089201658964157,\n",
       " -0.07997030019760132,\n",
       " -0.012111280113458633,\n",
       " -0.05773143842816353,\n",
       " 0.02317824959754944,\n",
       " -0.008031713776290417,\n",
       " -0.02598930150270462,\n",
       " -0.07995672523975372,\n",
       " -0.02072879672050476,\n",
       " 0.048817675560712814,\n",
       " -0.02038910612463951,\n",
       " -0.04917660355567932,\n",
       " 0.014159664511680603,\n",
       " -0.06362200528383255,\n",
       " -0.007807380054146051,\n",
       " 0.016431543976068497,\n",
       " -0.025682494044303894,\n",
       " 0.013381109572947025,\n",
       " 0.026248767971992493,\n",
       " 0.009978439658880234,\n",
       " 0.06322883814573288,\n",
       " 0.002672166097909212,\n",
       " -0.006582746282219887,\n",
       " 0.016631891950964928,\n",
       " 0.03236645832657814,\n",
       " 0.037942513823509216,\n",
       " -0.03637605533003807,\n",
       " -0.006910881958901882,\n",
       " 0.0001596537622390315,\n",
       " -0.0016335416585206985,\n",
       " -0.02727818302810192,\n",
       " -0.02803807333111763,\n",
       " 0.04968145862221718,\n",
       " -0.02886723168194294,\n",
       " -0.0024180454201996326,\n",
       " 0.01477489061653614,\n",
       " 0.009764536283910275,\n",
       " 0.005797595251351595,\n",
       " 0.013486196286976337,\n",
       " 0.005567879881709814,\n",
       " 0.0372270829975605,\n",
       " 0.00723246717825532,\n",
       " 0.04015617445111275,\n",
       " 0.0815032497048378,\n",
       " 0.07199162989854813,\n",
       " -0.01305617019534111,\n",
       " -0.0428820438683033,\n",
       " -0.011011263355612755,\n",
       " 0.004897777922451496,\n",
       " -0.009229703806340694,\n",
       " 0.03519149497151375,\n",
       " -0.051035065203905106,\n",
       " -1.571437557856825e-08,\n",
       " -0.08862439543008804,\n",
       " 0.023909322917461395,\n",
       " -0.016238724812865257,\n",
       " 0.03170046955347061,\n",
       " 0.027284229174256325,\n",
       " 0.052468832582235336,\n",
       " -0.04707096144556999,\n",
       " -0.05884743481874466,\n",
       " -0.06320824474096298,\n",
       " 0.04088851436972618,\n",
       " 0.049827996641397476,\n",
       " 0.10655169188976288,\n",
       " -0.07450233399868011,\n",
       " -0.01249541062861681,\n",
       " 0.018370669335126877,\n",
       " 0.03947410732507706,\n",
       " -0.024797899648547173,\n",
       " 0.01451629213988781,\n",
       " -0.037069179117679596,\n",
       " 0.020015733316540718,\n",
       " -4.858479223912582e-05,\n",
       " 0.009866519831120968,\n",
       " 0.024838760495185852,\n",
       " -0.05245814099907875,\n",
       " 0.029314178973436356,\n",
       " -0.08719193935394287,\n",
       " -0.014499749056994915,\n",
       " 0.026019124314188957,\n",
       " -0.018746329471468925,\n",
       " -0.07620517164468765,\n",
       " 0.03504328057169914,\n",
       " 0.10363952070474625,\n",
       " -0.028050487861037254,\n",
       " 0.01271817460656166,\n",
       " -0.07632551342248917,\n",
       " -0.018652329221367836,\n",
       " 0.024976693093776703,\n",
       " 0.08144532144069672,\n",
       " 0.06875887513160706,\n",
       " -0.06405661255121231,\n",
       " -0.08389382809400558,\n",
       " 0.061362359672784805,\n",
       " -0.033545516431331635,\n",
       " -0.10615333914756775,\n",
       " -0.04008057340979576,\n",
       " 0.03253019601106644,\n",
       " 0.07662487030029297,\n",
       " -0.07301624864339828,\n",
       " 0.00033759165671654046,\n",
       " -0.04087158665060997,\n",
       " -0.07578849792480469,\n",
       " 0.02752763405442238,\n",
       " 0.0746254026889801,\n",
       " 0.017717311158776283,\n",
       " 0.0912184789776802,\n",
       " 0.11022018641233444,\n",
       " 0.0005698166787624359,\n",
       " 0.051463350653648376,\n",
       " -0.014551306143403053,\n",
       " 0.03323199599981308,\n",
       " 0.023792272433638573,\n",
       " -0.022889859974384308,\n",
       " 0.038937538862228394,\n",
       " 0.030206795781850815]"
      ]
     },
     "execution_count": 12,
     "metadata": {},
     "output_type": "execute_result"
    }
   ],
   "source": [
    "query_result"
   ]
  },
  {
   "cell_type": "markdown",
   "metadata": {},
   "source": [
    "Initializing Pinecone"
   ]
  },
  {
   "cell_type": "code",
   "execution_count": 13,
   "metadata": {},
   "outputs": [],
   "source": [
    "from pinecone.grpc import PineconeGRPC as Pinecone\n",
    "from pinecone import ServerlessSpec\n",
    "pc = Pinecone(api_key=PINECONE_API_KEY)\n",
    "index_name = \"mnnit-chatbot\""
   ]
  },
  {
   "cell_type": "markdown",
   "metadata": {},
   "source": [
    "Creating embeddings for each text chunk and storing in the vector database"
   ]
  },
  {
   "cell_type": "code",
   "execution_count": 14,
   "metadata": {},
   "outputs": [
    {
     "ename": "NameError",
     "evalue": "name 'text_chunks' is not defined",
     "output_type": "error",
     "traceback": [
      "\u001b[0;31m---------------------------------------------------------------------------\u001b[0m",
      "\u001b[0;31mNameError\u001b[0m                                 Traceback (most recent call last)",
      "Cell \u001b[0;32mIn[14], line 5\u001b[0m\n\u001b[1;32m      2\u001b[0m \u001b[38;5;28;01mimport\u001b[39;00m \u001b[38;5;21;01mos\u001b[39;00m\n\u001b[1;32m      3\u001b[0m os\u001b[38;5;241m.\u001b[39menviron[\u001b[38;5;124m'\u001b[39m\u001b[38;5;124mPINECONE_API_KEY\u001b[39m\u001b[38;5;124m'\u001b[39m] \u001b[38;5;241m=\u001b[39m PINECONE_API_KEY\n\u001b[1;32m      4\u001b[0m docsearch \u001b[38;5;241m=\u001b[39m PineconeVectorStore\u001b[38;5;241m.\u001b[39mfrom_documents(\n\u001b[0;32m----> 5\u001b[0m     \u001b[43mtext_chunks\u001b[49m,\n\u001b[1;32m      6\u001b[0m     embeddings,\n\u001b[1;32m      7\u001b[0m     index_name \u001b[38;5;241m=\u001b[39m index_name\n\u001b[1;32m      8\u001b[0m )\n",
      "\u001b[0;31mNameError\u001b[0m: name 'text_chunks' is not defined"
     ]
    }
   ],
   "source": [
    "from langchain_pinecone import PineconeVectorStore\n",
    "import os\n",
    "os.environ['PINECONE_API_KEY'] = PINECONE_API_KEY\n",
    "docsearch = PineconeVectorStore.from_documents(\n",
    "    text_chunks,\n",
    "    embeddings,\n",
    "    index_name = index_name\n",
    ")"
   ]
  },
  {
   "cell_type": "markdown",
   "metadata": {},
   "source": [
    "Trying out the index"
   ]
  },
  {
   "cell_type": "code",
   "execution_count": null,
   "metadata": {},
   "outputs": [],
   "source": [
    "# # docsearch = Pinecone.from_existing_index(index_name, embeddings)\n",
    "query = \"What is the NIRF rank of MNNIT?\"\n",
    "# query_vector = embeddings.embed_query(query)\n",
    "index = pc.Index(index_name)\n",
    "# results = index.query(vector = query_vector, top_k = 3, include_values = True)\n",
    "# #docs = docsearch.similarity_search(query, k = 3)\n",
    "# print(results)\n",
    "\n",
    "\n",
    "from langchain_pinecone import PineconeVectorStore\n",
    "vectorstore = PineconeVectorStore(index=index, embedding=embeddings)\n",
    "\n",
    "results = vectorstore.similarity_search(\n",
    "    query,\n",
    "    k=3  # return 3 most relevant docs \n",
    ")\n",
    "\n",
    "print(results)"
   ]
  },
  {
   "cell_type": "markdown",
   "metadata": {},
   "source": [
    "Load llm model"
   ]
  },
  {
   "cell_type": "code",
   "execution_count": null,
   "metadata": {},
   "outputs": [],
   "source": [
    "import langchain\n",
    "import langchain_community\n",
    "from langchain_community.llms import CTransformers\n",
    "llm = CTransformers(model = \"model/llama-2-7b-chat.ggmlv3.q4_0.bin\",\n",
    "                    model_type = \"llama\",\n",
    "                    verbose = True,\n",
    "                    config = {'max_new_tokens':512,\n",
    "                              'temperature':0.8})"
   ]
  },
  {
   "cell_type": "markdown",
   "metadata": {},
   "source": [
    "Entering LLM Prompt Template"
   ]
  },
  {
   "cell_type": "code",
   "execution_count": null,
   "metadata": {},
   "outputs": [],
   "source": [
    "print(llm)"
   ]
  },
  {
   "cell_type": "code",
   "execution_count": null,
   "metadata": {},
   "outputs": [],
   "source": [
    "prompt_template=\"\"\"\n",
    "Use the following pieces of information to answer the user's question.\n",
    "If you don't know the answer, just say that you don't know, don't try to make up an answer.\n",
    "Don't answer any queries not related to MNNIT.\n",
    "\n",
    "Context: {context}\n",
    "Question: {question}\n",
    "\n",
    "Only return the helpful answer below and nothing else.\n",
    "Helpful answer:\n",
    "\"\"\""
   ]
  },
  {
   "cell_type": "code",
   "execution_count": null,
   "metadata": {},
   "outputs": [],
   "source": [
    "PROMPT=PromptTemplate(template=prompt_template, input_variables=[\"context\", \"question\"])\n",
    "chain_type_kwargs={\"prompt\": PROMPT}"
   ]
  },
  {
   "cell_type": "code",
   "execution_count": null,
   "metadata": {},
   "outputs": [],
   "source": [
    "from langchain.chains import RetrievalQA\n",
    "qa=RetrievalQA.from_chain_type(\n",
    "    llm = llm,\n",
    "    chain_type=\"stuff\",\n",
    "    retriever = vectorstore.as_retriever(search_kwargs={'k':2}),\n",
    "    return_source_documents=True,\n",
    "    chain_type_kwargs=chain_type_kwargs\n",
    ")"
   ]
  },
  {
   "cell_type": "code",
   "execution_count": null,
   "metadata": {},
   "outputs": [],
   "source": [
    "while True:\n",
    "    user_input=input(f\"Input Prompt:\")\n",
    "    result=qa({\"query\":user_input})\n",
    "    print(\"Response: \",result[\"result\"])"
   ]
  }
 ],
 "metadata": {
  "kernelspec": {
   "display_name": "Python 3",
   "language": "python",
   "name": "python3"
  },
  "language_info": {
   "codemirror_mode": {
    "name": "ipython",
    "version": 3
   },
   "file_extension": ".py",
   "mimetype": "text/x-python",
   "name": "python",
   "nbconvert_exporter": "python",
   "pygments_lexer": "ipython3",
   "version": "3.10.13"
  }
 },
 "nbformat": 4,
 "nbformat_minor": 2
}
